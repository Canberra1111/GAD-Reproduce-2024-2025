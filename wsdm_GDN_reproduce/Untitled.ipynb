{
 "cells": [
  {
   "cell_type": "code",
   "execution_count": 1,
   "id": "cb9bb024-4ff2-49e5-8852-6bb59507606b",
   "metadata": {},
   "outputs": [
    {
     "name": "stdout",
     "output_type": "stream",
     "text": [
      "Checking data files...\n",
      "Found YelpChi.mat, checking contents...\n",
      "Keys in YelpChi.mat:\n",
      "  Network: <class 'scipy.sparse._csc.csc_matrix'>, shape: (23831, 23831)\n",
      "  Label: <class 'numpy.ndarray'>, shape: (1, 23831)\n",
      "  Attributes: <class 'scipy.sparse._csc.csc_matrix'>, shape: (23831, 32)\n",
      "\n",
      "Found Amazon.mat, checking contents...\n",
      "Keys in Amazon.mat:\n",
      "  Network: <class 'scipy.sparse._csc.csc_matrix'>, shape: (10224, 10224)\n",
      "  Label: <class 'numpy.ndarray'>, shape: (1, 10224)\n",
      "  Attributes: <class 'scipy.sparse._csc.csc_matrix'>, shape: (10224, 25)\n",
      "\n",
      "Checking processed files...\n",
      "✗ data/yelp_rur_adjlists.pickle missing\n",
      "✗ data/yelp_rtr_adjlists.pickle missing\n",
      "✗ data/yelp_rsr_adjlists.pickle missing\n",
      "✗ data/yelp_homo_adjlists.pickle missing\n"
     ]
    }
   ],
   "source": [
    "# check_data.py\n",
    "from scipy.io import loadmat\n",
    "import os\n",
    "\n",
    "def check_yelp_data():\n",
    "    \"\"\"检查YelpChi数据文件\"\"\"\n",
    "    if os.path.exists('/root/wsdm_GDN/data/YelpChi.mat'):\n",
    "        print(\"Found YelpChi.mat, checking contents...\")\n",
    "        try:\n",
    "            data = loadmat('data/YelpChi.mat')\n",
    "            print(\"Keys in YelpChi.mat:\")\n",
    "            for key in data.keys():\n",
    "                if not key.startswith('__'):\n",
    "                    print(f\"  {key}: {type(data[key])}, shape: {data[key].shape if hasattr(data[key], 'shape') else 'N/A'}\")\n",
    "        except Exception as e:\n",
    "            print(f\"Error loading YelpChi.mat: {e}\")\n",
    "    else:\n",
    "        print(\"YelpChi.mat not found!\")\n",
    "\n",
    "def check_amazon_data():\n",
    "    \"\"\"检查Amazon数据文件\"\"\"\n",
    "    if os.path.exists('/root/wsdm_GDN/data/Amazon.mat'):\n",
    "        print(\"\\nFound Amazon.mat, checking contents...\")\n",
    "        try:\n",
    "            data = loadmat('data/Amazon.mat')\n",
    "            print(\"Keys in Amazon.mat:\")\n",
    "            for key in data.keys():\n",
    "                if not key.startswith('__'):\n",
    "                    print(f\"  {key}: {type(data[key])}, shape: {data[key].shape if hasattr(data[key], 'shape') else 'N/A'}\")\n",
    "        except Exception as e:\n",
    "            print(f\"Error loading Amazon.mat: {e}\")\n",
    "    else:\n",
    "        print(\"Amazon.mat not found!\")\n",
    "\n",
    "if __name__ == \"__main__\":\n",
    "    print(\"Checking data files...\")\n",
    "    check_yelp_data()\n",
    "    check_amazon_data()\n",
    "    \n",
    "    print(\"\\nChecking processed files...\")\n",
    "    processed_files = [\n",
    "        'data/yelp_rur_adjlists.pickle',\n",
    "        'data/yelp_rtr_adjlists.pickle', \n",
    "        'data/yelp_rsr_adjlists.pickle',\n",
    "        'data/yelp_homo_adjlists.pickle'\n",
    "    ]\n",
    "    \n",
    "    for file in processed_files:\n",
    "        if os.path.exists(file):\n",
    "            print(f\"✓ {file} exists\")\n",
    "        else:\n",
    "            print(f\"✗ {file} missing\")"
   ]
  },
  {
   "cell_type": "code",
   "execution_count": null,
   "id": "04d41d37-2445-4396-8d20-2dbf1ecd4646",
   "metadata": {},
   "outputs": [],
   "source": []
  }
 ],
 "metadata": {
  "kernelspec": {
   "display_name": "Python 3 (ipykernel)",
   "language": "python",
   "name": "python3"
  },
  "language_info": {
   "codemirror_mode": {
    "name": "ipython",
    "version": 3
   },
   "file_extension": ".py",
   "mimetype": "text/x-python",
   "name": "python",
   "nbconvert_exporter": "python",
   "pygments_lexer": "ipython3",
   "version": "3.8.10"
  }
 },
 "nbformat": 4,
 "nbformat_minor": 5
}
